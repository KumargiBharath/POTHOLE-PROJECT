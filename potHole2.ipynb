{
  "nbformat": 4,
  "nbformat_minor": 0,
  "metadata": {
    "colab": {
      "private_outputs": true,
      "provenance": [],
      "gpuType": "T4",
      "authorship_tag": "ABX9TyPxBdvMSBz5KjAxs0eJqjRq",
      "include_colab_link": true
    },
    "kernelspec": {
      "name": "python3",
      "display_name": "Python 3"
    },
    "language_info": {
      "name": "python"
    },
    "accelerator": "GPU"
  },
  "cells": [
    {
      "cell_type": "markdown",
      "metadata": {
        "id": "view-in-github",
        "colab_type": "text"
      },
      "source": [
        "<a href=\"https://colab.research.google.com/github/KumargiBharath/POTHOLE-PROJECT/blob/main/potHole2.ipynb\" target=\"_parent\"><img src=\"https://colab.research.google.com/assets/colab-badge.svg\" alt=\"Open In Colab\"/></a>"
      ]
    },
    {
      "cell_type": "code",
      "execution_count": null,
      "metadata": {
        "id": "PyCfvlBVCzHM"
      },
      "outputs": [],
      "source": [
        "!nvidia-smi"
      ]
    },
    {
      "cell_type": "code",
      "source": [
        "import os\n",
        "Home=os.getcwd()\n",
        "print(Home)"
      ],
      "metadata": {
        "id": "BxUKSySvDJHa"
      },
      "execution_count": null,
      "outputs": []
    },
    {
      "cell_type": "code",
      "source": [
        "!pip install --upgrade ultralytics\n",
        "\n",
        "from IPython import display\n",
        "display.clear_output()\n",
        "\n",
        "import ultralytics\n",
        "ultralytics.checks()"
      ],
      "metadata": {
        "id": "KkcKUtAwDMDu"
      },
      "execution_count": null,
      "outputs": []
    },
    {
      "cell_type": "code",
      "source": [
        "from ultralytics import YOLO\n",
        "from IPython.display import display,Image"
      ],
      "metadata": {
        "id": "KHP6XJ0PDP4K"
      },
      "execution_count": null,
      "outputs": []
    },
    {
      "cell_type": "code",
      "source": [
        "%cd {Home}\n",
        "!yolo predict model=yolov8s.pt source='https://ultralytics.com/images/bus.jpg'"
      ],
      "metadata": {
        "id": "Sk0tOESyDUNa"
      },
      "execution_count": null,
      "outputs": []
    },
    {
      "cell_type": "code",
      "source": [
        "from google.colab import drive\n",
        "drive.mount('/content/drive')"
      ],
      "metadata": {
        "id": "FfQ_rpL_DUql"
      },
      "execution_count": null,
      "outputs": []
    },
    {
      "cell_type": "code",
      "source": [
        "%cd /content/drive/MyDrive/New"
      ],
      "metadata": {
        "id": "6euJdOzNEEos"
      },
      "execution_count": null,
      "outputs": []
    },
    {
      "cell_type": "code",
      "source": [
        "!ls"
      ],
      "metadata": {
        "id": "ma6dAfSjEUHR"
      },
      "execution_count": null,
      "outputs": []
    },
    {
      "cell_type": "code",
      "source": [
        "%cd /content/drive/MyDrive/New\n",
        "!yolo task=detect mode=train model=yolov8s.pt data=data.yaml epochs=47 imgsz=800 batch=16 plots=True rect=True cos_lr=True"
      ],
      "metadata": {
        "id": "z3OS6jDtEUr_"
      },
      "execution_count": null,
      "outputs": []
    },
    {
      "cell_type": "code",
      "source": [
        "!ls runs/detect/train/"
      ],
      "metadata": {
        "id": "QDbk1X5uGhuY"
      },
      "execution_count": null,
      "outputs": []
    },
    {
      "cell_type": "code",
      "source": [
        "Image(filename='runs/detect/train/confusion_matrix.png',width=600)"
      ],
      "metadata": {
        "id": "vZrS9Zp9GjmA"
      },
      "execution_count": null,
      "outputs": []
    },
    {
      "cell_type": "code",
      "source": [
        "Image(filename='runs/detect/train/results.png',width=600)"
      ],
      "metadata": {
        "id": "c7UBDJ7-GnS2"
      },
      "execution_count": null,
      "outputs": []
    },
    {
      "cell_type": "code",
      "source": [
        "Image(filename='runs/detect/train/val_batch0_pred.jpg',width=600)"
      ],
      "metadata": {
        "id": "1EWkKCyphqEV"
      },
      "execution_count": null,
      "outputs": []
    },
    {
      "cell_type": "code",
      "source": [
        "!yolo task=detect mode=val model=/content/drive/MyDrive/New/runs/detect/train/weights/best.pt data=data.yaml"
      ],
      "metadata": {
        "id": "QDcsusbEI-pL"
      },
      "execution_count": null,
      "outputs": []
    },
    {
      "cell_type": "code",
      "source": [
        "!yolo task=detect mode=predict model=/content/drive/MyDrive/New/runs/detect/train/weights/best.pt conf=0.25 source=data/test/images"
      ],
      "metadata": {
        "id": "hshKixBTx0Yp"
      },
      "execution_count": null,
      "outputs": []
    },
    {
      "cell_type": "code",
      "source": [
        "!yolo task=detect mode=predict model=/content/drive/MyDrive/New/runs/detect/train/weights/best.pt conf=0.77 source=/content/drive/MyDrive/New/Test.mp4"
      ],
      "metadata": {
        "id": "l4psRx-1ynd2"
      },
      "execution_count": null,
      "outputs": []
    },
    {
      "cell_type": "code",
      "source": [],
      "metadata": {
        "id": "oxA_w8mv_fN5"
      },
      "execution_count": null,
      "outputs": []
    }
  ]
}